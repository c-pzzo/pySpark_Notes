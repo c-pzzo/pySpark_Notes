{
 "cells": [
  {
   "cell_type": "markdown",
   "id": "a0b245bc",
   "metadata": {},
   "source": [
    "# About"
   ]
  },
  {
   "cell_type": "markdown",
   "id": "27badf8f",
   "metadata": {},
   "source": [
    "Univariate analysis takes single-feature data (a.k.a. variables, attributes) and summarizes it to find patterns in the data. Simple summary statistics are applied on univariate data."
   ]
  },
  {
   "cell_type": "markdown",
   "id": "17bc851c",
   "metadata": {},
   "source": [
    "# Libraries"
   ]
  },
  {
   "cell_type": "code",
   "execution_count": 30,
   "id": "9ad140e6",
   "metadata": {},
   "outputs": [
    {
     "name": "stdout",
     "output_type": "stream",
     "text": [
      "User information is ready!\n"
     ]
    }
   ],
   "source": [
    "%run general_fv.ipynb"
   ]
  },
  {
   "cell_type": "code",
   "execution_count": null,
   "id": "62a76fcb",
   "metadata": {},
   "outputs": [],
   "source": [
    "from pyspark.sql.functions import col, skewness, kurtosis"
   ]
  },
  {
   "cell_type": "markdown",
   "id": "9fa8d4bb",
   "metadata": {},
   "source": [
    "* [col](https://spark.apache.org/docs/latest/api/python//reference/pyspark.sql/api/pyspark.sql.functions.col.html): Returns a Column based on the given column name\n",
    "* [Skewness](https://spark.apache.org/docs/latest/api/python//reference/pyspark.sql/api/pyspark.sql.functions.kurtosis.html?highlight=kurtosis#pyspark.sql.functions.kurtosis): Aggregate function: returns the skewness of the values in a group.\n",
    "* [Kurtosis](https://spark.apache.org/docs/latest/api/python//reference/pyspark.sql/api/pyspark.sql.functions.kurtosis.html?highlight=kurtosis#pyspark.sql.functions.kurtosis): Aggregate function: returns the kurtosis of the values in a group.\n"
   ]
  },
  {
   "cell_type": "code",
   "execution_count": null,
   "id": "30d3e5ad",
   "metadata": {},
   "outputs": [],
   "source": [
    "from pyspark.sql.functions import  min, max"
   ]
  },
  {
   "cell_type": "code",
   "execution_count": null,
   "id": "c50989c2",
   "metadata": {},
   "outputs": [],
   "source": [
    "from pyspark_dist_explore import hist as pyspark_hist"
   ]
  },
  {
   "cell_type": "code",
   "execution_count": 112,
   "id": "66004bfc",
   "metadata": {},
   "outputs": [],
   "source": [
    "import seaborn as sns"
   ]
  },
  {
   "cell_type": "markdown",
   "id": "70d74842",
   "metadata": {},
   "source": [
    "# Functions defined by author of source"
   ]
  },
  {
   "cell_type": "code",
   "execution_count": 9,
   "id": "d5b7079f",
   "metadata": {},
   "outputs": [],
   "source": [
    "def describe_pd(data, columns, deciles=False):\n",
    "    '''\n",
    "    Function to union the basic stats results and deciles\n",
    "    :param data: the input dataframe\n",
    "    :param columns: the cloumn name list of the numerical variable\n",
    "    :param deciles: the deciles output\n",
    "\n",
    "    :return : the numerical describe info. of the input dataframe\n",
    "\n",
    "    :author: Ming Chen and Wenqiang Feng\n",
    "    :email:  von198@gmail.com\n",
    "    '''\n",
    "\n",
    "    if deciles:\n",
    "        percentiles = np.array(range(0, 110, 10))\n",
    "    else:\n",
    "        percentiles = [25, 50, 75]\n",
    "\n",
    "    percs = np.transpose([np.percentile(data.select(x).collect(), percentiles) for x in columns])\n",
    "    percs = pd.DataFrame(percs, columns=columns)\n",
    "    percs['summary'] = [str(p) + '%' for p in percentiles]\n",
    "\n",
    "    spark_describe = data.describe().toPandas()\n",
    "    new_df = pd.concat([spark_describe, percs],ignore_index=True)\n",
    "    new_df = new_df.round(2)\n",
    "    return new_df[['summary'] + columns]"
   ]
  },
  {
   "cell_type": "markdown",
   "id": "92935e1b",
   "metadata": {},
   "source": [
    "# User-Defined Functions"
   ]
  },
  {
   "cell_type": "code",
   "execution_count": null,
   "id": "6431960a",
   "metadata": {},
   "outputs": [],
   "source": []
  },
  {
   "cell_type": "markdown",
   "id": "d2ec7a30",
   "metadata": {},
   "source": [
    "# Data"
   ]
  },
  {
   "cell_type": "code",
   "execution_count": 33,
   "id": "d523838b",
   "metadata": {},
   "outputs": [
    {
     "name": "stderr",
     "output_type": "stream",
     "text": [
      "/home/cesar/anaconda3/envs/spark_env/lib/python3.9/site-packages/pandas/io/sql.py:761: UserWarning: pandas only support SQLAlchemy connectable(engine/connection) ordatabase string URI or sqlite3 DBAPI2 connectionother DBAPI2 objects are not tested, please consider using SQLAlchemy\n",
      "  warnings.warn(\n"
     ]
    },
    {
     "data": {
      "text/plain": [
       "DataFrame[pm25: double]"
      ]
     },
     "execution_count": 33,
     "metadata": {},
     "output_type": "execute_result"
    }
   ],
   "source": [
    "sqlq = \"SELECT pm25 FROM `sima_station_CE` where datetime > \\'2021-03-01\\'\"\n",
    "data = ps_sqlq(sqlq, True)\n",
    "data"
   ]
  },
  {
   "cell_type": "markdown",
   "id": "06219c42",
   "metadata": {},
   "source": [
    "# Data Exploration for numerical data"
   ]
  },
  {
   "cell_type": "markdown",
   "id": "d0a4619b",
   "metadata": {},
   "source": [
    "## * Describe()"
   ]
  },
  {
   "cell_type": "code",
   "execution_count": 5,
   "id": "b6c5a4a3",
   "metadata": {
    "scrolled": true
   },
   "outputs": [
    {
     "name": "stderr",
     "output_type": "stream",
     "text": [
      "\r",
      "[Stage 0:>                                                          (0 + 8) / 8]\r"
     ]
    },
    {
     "name": "stdout",
     "output_type": "stream",
     "text": [
      "+-------+-----------------+\n",
      "|summary|               _1|\n",
      "+-------+-----------------+\n",
      "|  count|             9911|\n",
      "|   mean|21.23093633336697|\n",
      "| stddev|15.82183737408875|\n",
      "|    min|              0.0|\n",
      "|    max|            140.0|\n",
      "+-------+-----------------+\n",
      "\n"
     ]
    },
    {
     "name": "stderr",
     "output_type": "stream",
     "text": [
      "\r",
      "                                                                                \r"
     ]
    }
   ],
   "source": [
    "data.describe().show()"
   ]
  },
  {
   "cell_type": "markdown",
   "id": "218589dd",
   "metadata": {},
   "source": [
    "## * Percentiles"
   ]
  },
  {
   "cell_type": "code",
   "execution_count": 35,
   "id": "a03d3c7b",
   "metadata": {},
   "outputs": [
    {
     "data": {
      "text/html": [
       "<div>\n",
       "<style scoped>\n",
       "    .dataframe tbody tr th:only-of-type {\n",
       "        vertical-align: middle;\n",
       "    }\n",
       "\n",
       "    .dataframe tbody tr th {\n",
       "        vertical-align: top;\n",
       "    }\n",
       "\n",
       "    .dataframe thead th {\n",
       "        text-align: right;\n",
       "    }\n",
       "</style>\n",
       "<table border=\"1\" class=\"dataframe\">\n",
       "  <thead>\n",
       "    <tr style=\"text-align: right;\">\n",
       "      <th></th>\n",
       "      <th>summary</th>\n",
       "      <th>pm25</th>\n",
       "    </tr>\n",
       "  </thead>\n",
       "  <tbody>\n",
       "    <tr>\n",
       "      <th>0</th>\n",
       "      <td>count</td>\n",
       "      <td>9911</td>\n",
       "    </tr>\n",
       "    <tr>\n",
       "      <th>1</th>\n",
       "      <td>mean</td>\n",
       "      <td>21.23093633336697</td>\n",
       "    </tr>\n",
       "    <tr>\n",
       "      <th>2</th>\n",
       "      <td>stddev</td>\n",
       "      <td>15.82183737408875</td>\n",
       "    </tr>\n",
       "    <tr>\n",
       "      <th>3</th>\n",
       "      <td>min</td>\n",
       "      <td>0.0</td>\n",
       "    </tr>\n",
       "    <tr>\n",
       "      <th>4</th>\n",
       "      <td>max</td>\n",
       "      <td>140.0</td>\n",
       "    </tr>\n",
       "    <tr>\n",
       "      <th>5</th>\n",
       "      <td>25%</td>\n",
       "      <td>11.0</td>\n",
       "    </tr>\n",
       "    <tr>\n",
       "      <th>6</th>\n",
       "      <td>50%</td>\n",
       "      <td>18.0</td>\n",
       "    </tr>\n",
       "    <tr>\n",
       "      <th>7</th>\n",
       "      <td>75%</td>\n",
       "      <td>29.0</td>\n",
       "    </tr>\n",
       "  </tbody>\n",
       "</table>\n",
       "</div>"
      ],
      "text/plain": [
       "  summary               pm25\n",
       "0   count               9911\n",
       "1    mean  21.23093633336697\n",
       "2  stddev  15.82183737408875\n",
       "3     min                0.0\n",
       "4     max              140.0\n",
       "5     25%               11.0\n",
       "6     50%               18.0\n",
       "7     75%               29.0"
      ]
     },
     "execution_count": 35,
     "metadata": {},
     "output_type": "execute_result"
    }
   ],
   "source": [
    "# Function was defined by author of source\n",
    "columns = [\"pm25\"]\n",
    "describe_pd(data, columns, deciles=False)"
   ]
  },
  {
   "cell_type": "code",
   "execution_count": 36,
   "id": "8bd78a2a",
   "metadata": {},
   "outputs": [
    {
     "data": {
      "text/html": [
       "<div>\n",
       "<style scoped>\n",
       "    .dataframe tbody tr th:only-of-type {\n",
       "        vertical-align: middle;\n",
       "    }\n",
       "\n",
       "    .dataframe tbody tr th {\n",
       "        vertical-align: top;\n",
       "    }\n",
       "\n",
       "    .dataframe thead th {\n",
       "        text-align: right;\n",
       "    }\n",
       "</style>\n",
       "<table border=\"1\" class=\"dataframe\">\n",
       "  <thead>\n",
       "    <tr style=\"text-align: right;\">\n",
       "      <th></th>\n",
       "      <th>summary</th>\n",
       "      <th>pm25</th>\n",
       "    </tr>\n",
       "  </thead>\n",
       "  <tbody>\n",
       "    <tr>\n",
       "      <th>0</th>\n",
       "      <td>count</td>\n",
       "      <td>9911</td>\n",
       "    </tr>\n",
       "    <tr>\n",
       "      <th>1</th>\n",
       "      <td>mean</td>\n",
       "      <td>21.23093633336697</td>\n",
       "    </tr>\n",
       "    <tr>\n",
       "      <th>2</th>\n",
       "      <td>stddev</td>\n",
       "      <td>15.82183737408875</td>\n",
       "    </tr>\n",
       "    <tr>\n",
       "      <th>3</th>\n",
       "      <td>min</td>\n",
       "      <td>0.0</td>\n",
       "    </tr>\n",
       "    <tr>\n",
       "      <th>4</th>\n",
       "      <td>max</td>\n",
       "      <td>140.0</td>\n",
       "    </tr>\n",
       "    <tr>\n",
       "      <th>5</th>\n",
       "      <td>0%</td>\n",
       "      <td>0.0</td>\n",
       "    </tr>\n",
       "    <tr>\n",
       "      <th>6</th>\n",
       "      <td>10%</td>\n",
       "      <td>5.0</td>\n",
       "    </tr>\n",
       "    <tr>\n",
       "      <th>7</th>\n",
       "      <td>20%</td>\n",
       "      <td>9.0</td>\n",
       "    </tr>\n",
       "    <tr>\n",
       "      <th>8</th>\n",
       "      <td>30%</td>\n",
       "      <td>12.0</td>\n",
       "    </tr>\n",
       "    <tr>\n",
       "      <th>9</th>\n",
       "      <td>40%</td>\n",
       "      <td>15.0</td>\n",
       "    </tr>\n",
       "    <tr>\n",
       "      <th>10</th>\n",
       "      <td>50%</td>\n",
       "      <td>18.0</td>\n",
       "    </tr>\n",
       "    <tr>\n",
       "      <th>11</th>\n",
       "      <td>60%</td>\n",
       "      <td>21.69</td>\n",
       "    </tr>\n",
       "    <tr>\n",
       "      <th>12</th>\n",
       "      <td>70%</td>\n",
       "      <td>26.0</td>\n",
       "    </tr>\n",
       "    <tr>\n",
       "      <th>13</th>\n",
       "      <td>80%</td>\n",
       "      <td>32.0</td>\n",
       "    </tr>\n",
       "    <tr>\n",
       "      <th>14</th>\n",
       "      <td>90%</td>\n",
       "      <td>42.0</td>\n",
       "    </tr>\n",
       "    <tr>\n",
       "      <th>15</th>\n",
       "      <td>100%</td>\n",
       "      <td>140.0</td>\n",
       "    </tr>\n",
       "  </tbody>\n",
       "</table>\n",
       "</div>"
      ],
      "text/plain": [
       "   summary               pm25\n",
       "0    count               9911\n",
       "1     mean  21.23093633336697\n",
       "2   stddev  15.82183737408875\n",
       "3      min                0.0\n",
       "4      max              140.0\n",
       "5       0%                0.0\n",
       "6      10%                5.0\n",
       "7      20%                9.0\n",
       "8      30%               12.0\n",
       "9      40%               15.0\n",
       "10     50%               18.0\n",
       "11     60%              21.69\n",
       "12     70%               26.0\n",
       "13     80%               32.0\n",
       "14     90%               42.0\n",
       "15    100%              140.0"
      ]
     },
     "execution_count": 36,
     "metadata": {},
     "output_type": "execute_result"
    }
   ],
   "source": [
    "describe_pd(data, columns, deciles=True)"
   ]
  },
  {
   "cell_type": "markdown",
   "id": "d48bb223",
   "metadata": {},
   "source": [
    "## * Skewness and Kurtosis + Histogram\n",
    "\n",
    "* **Skewness**: Measure of asymmetry for the probability distribution function (pdf) of a variable about its mean.\n",
    "    * A value of zero indicates that there is no skewness in the distribution at all, meaning the distribution is perfectly symmetrical.    \n",
    "    * **Negative skew** indicates that the tail is on the left side of the distribution, which extends towards more negative values.\n",
    "    * **Positive skew** indicates that the tail is on the right side of the distribution, which extends towards more positive values.\n",
    "\n",
    "\n",
    "* **Kurtosis**: Kurtosis is a measure of whether or not a distribution is heavy-tailed or light-tailed relative to a normal distribution.\n",
    "    * The kurtosis of a normal distribution is 3.\n",
    "    * It is called `playkurtic` if kurtosis < 3. This means it tends to produce fewer and less extreme outliers than the normal distribution.\n",
    "    * It is called `leptokurtic` if kurtosis > 3. This means it tends to produce more outliers than the normal distribution.\n",
    "\n",
    "[Source](https://www.statology.org/how-to-report-skewness-kurtosis/)\n",
    "\n",
    "![Test](https://runawayhorse001.github.io/LearningApacheSpark/_images/skewed.png)\n"
   ]
  },
  {
   "cell_type": "code",
   "execution_count": 38,
   "id": "13ee6479",
   "metadata": {},
   "outputs": [
    {
     "name": "stdout",
     "output_type": "stream",
     "text": [
      "+------------------+------------------+\n",
      "|    skewness(pm25)|    kurtosis(pm25)|\n",
      "+------------------+------------------+\n",
      "|1.3416046018209498|2.8324194712616535|\n",
      "+------------------+------------------+\n",
      "\n"
     ]
    }
   ],
   "source": [
    "var = \"pm25\"\n",
    "data.select(skewness(var),kurtosis(var)).show()"
   ]
  },
  {
   "cell_type": "code",
   "execution_count": 106,
   "id": "04c406b4",
   "metadata": {},
   "outputs": [
    {
     "data": {
      "image/png": "[encoded data removed]",
      "text/plain": [
       "<Figure size 1080x576 with 1 Axes>"
      ]
     },
     "metadata": {
      "needs_background": "light"
     },
     "output_type": "display_data"
    }
   ],
   "source": [
    "x = data.select(var).toPandas()\n",
    "\n",
    "bins_arr = np.arange(0, 140, 5.0)\n",
    "\n",
    "plt.figure(figsize=(15,8))\n",
    "\n",
    "# Histogram\n",
    "plt.hist(x # Input array\n",
    "         , bins_arr # Bins array\n",
    "         , histtype='bar', color='gold', ec='black' # [Type, Color, Edge color]\n",
    "         , weights=np.zeros_like(x) + 100. / x.size) # Y-Axis weight\n",
    "\n",
    "plt.xlabel(var)\n",
    "plt.ylabel('percentage')\n",
    "plt.xticks(bins)\n",
    "plt.show()"
   ]
  },
  {
   "cell_type": "code",
   "execution_count": 114,
   "id": "43acc5eb",
   "metadata": {},
   "outputs": [
    {
     "data": {
      "text/plain": [
       "(array([9.520e+02, 1.134e+03, 1.821e+03, 1.532e+03, 1.181e+03, 9.580e+02,\n",
       "        6.850e+02, 4.830e+02, 3.260e+02, 2.660e+02, 1.860e+02, 1.120e+02,\n",
       "        7.300e+01, 6.400e+01, 4.800e+01, 2.700e+01, 1.700e+01, 1.800e+01,\n",
       "        9.000e+00, 9.000e+00, 4.000e+00, 4.000e+00, 1.000e+00, 0.000e+00,\n",
       "        0.000e+00, 0.000e+00, 0.000e+00, 1.000e+00]),\n",
       " array([  0.,   5.,  10.,  15.,  20.,  25.,  30.,  35.,  40.,  45.,  50.,\n",
       "         55.,  60.,  65.,  70.,  75.,  80.,  85.,  90.,  95., 100., 105.,\n",
       "        110., 115., 120., 125., 130., 135., 140.]),\n",
       " <BarContainer object of 28 artists>)"
      ]
     },
     "execution_count": 114,
     "metadata": {},
     "output_type": "execute_result"
    },
    {
     "data": {
      "image/png": "[encoded data removed]",
      "text/plain": [
       "<Figure size 432x288 with 1 Axes>"
      ]
     },
     "metadata": {
      "needs_background": "light"
     },
     "output_type": "display_data"
    }
   ],
   "source": [
    "# Alternative without transforming back to Pandas\n",
    "fig, ax = plt.subplots()\n",
    "pyspark_hist(ax, data.select(var), bins = len(bins_arr), color=['gold'])"
   ]
  },
  {
   "cell_type": "markdown",
   "id": "f16a7922",
   "metadata": {},
   "source": [
    "# Boxplot and Violin plot\n",
    "The unquestionable advantage of the **violin plot** over the box plot is that aside from showing the same statistics, it also shows the entire distribution of the data. This is of interest, especially when dealing with multimodal data, i.e., a distribution with more than one peak.\n",
    "\n",
    "![Comparison](https://miro.medium.com/max/520/1*TTMOaNG1o4PgQd-e8LurMg.png)"
   ]
  },
  {
   "cell_type": "code",
   "execution_count": 113,
   "id": "db294ff8",
   "metadata": {},
   "outputs": [
    {
     "data": {
      "image/png": "[encoded data removed]",
      "text/plain": [
       "<Figure size 1440x576 with 2 Axes>"
      ]
     },
     "metadata": {
      "needs_background": "light"
     },
     "output_type": "display_data"
    }
   ],
   "source": [
    "x = data.select(var).toPandas()\n",
    "\n",
    "fig = plt.figure(figsize=(20, 8))\n",
    "\n",
    "# Boxplot\n",
    "ax = fig.add_subplot(1, 2, 1)\n",
    "ax = sns.boxplot(data=x)\n",
    "\n",
    "# Violin plot\n",
    "ax = fig.add_subplot(1, 2, 2)\n",
    "ax = sns.violinplot(data=x)"
   ]
  },
  {
   "cell_type": "markdown",
   "id": "8a9c63b2",
   "metadata": {},
   "source": [
    "# Data Exploration for categorical data"
   ]
  },
  {
   "cell_type": "markdown",
   "id": "92dc5b18",
   "metadata": {},
   "source": [
    "## Frequency table"
   ]
  },
  {
   "cell_type": "code",
   "execution_count": 131,
   "id": "cb2363f9",
   "metadata": {},
   "outputs": [
    {
     "name": "stderr",
     "output_type": "stream",
     "text": [
      "/home/cesar/anaconda3/envs/spark_env/lib/python3.9/site-packages/pandas/io/sql.py:761: UserWarning: pandas only support SQLAlchemy connectable(engine/connection) ordatabase string URI or sqlite3 DBAPI2 connectionother DBAPI2 objects are not tested, please consider using SQLAlchemy\n",
      "  warnings.warn(\n"
     ]
    }
   ],
   "source": [
    "sqlq = \"\"\"\n",
    "SELECT\n",
    "count( case when `SE` > 0 then 1 end) as SE\n",
    ", count( case when `NE` > 0 then 1 end) as NE\n",
    ", count( case when `CE` > 0 then 1 end) as CE\n",
    ", count( case when `NO` > 0 then 1 end) as NO\n",
    ", count( case when `SO` > 0 then 1 end) as SO\n",
    ", count( case when `NO2` > 0 then 1 end) as NO2\n",
    ", count( case when `NTE` > 0 then 1 end) as NTE\n",
    ", count( case when `NE2` > 0 then 1 end) as NE2\n",
    ", count( case when `SE2` > 0 then 1 end) as SE2\n",
    ", count( case when `SO2` > 0 then 1 end) as SO2\n",
    ", count( case when `SE3` > 0 then 1 end) as SE3\n",
    ", count( case when `SUR` > 0 then 1 end) as SUR\n",
    ", count( case when `NTE2` > 0 then 1 end) as NTE2\n",
    ", count( case when `NE3` > 0 then 1 end) as NE3\n",
    "FROM `sima_pm25`\n",
    "where datetime >= '2021-03-01'\n",
    "\"\"\"\n",
    "cat_data = ps_sqlq(sqlq, False)\n",
    "freq_cat = cat_data.T.reset_index()\n",
    "freq_cat.columns = [\"Station\", \"Count\"]\n"
   ]
  },
  {
   "cell_type": "code",
   "execution_count": 140,
   "id": "235f65fc",
   "metadata": {},
   "outputs": [
    {
     "data": {
      "text/html": [
       "<div>\n",
       "<style scoped>\n",
       "    .dataframe tbody tr th:only-of-type {\n",
       "        vertical-align: middle;\n",
       "    }\n",
       "\n",
       "    .dataframe tbody tr th {\n",
       "        vertical-align: top;\n",
       "    }\n",
       "\n",
       "    .dataframe thead th {\n",
       "        text-align: right;\n",
       "    }\n",
       "</style>\n",
       "<table border=\"1\" class=\"dataframe\">\n",
       "  <thead>\n",
       "    <tr style=\"text-align: right;\">\n",
       "      <th></th>\n",
       "      <th>Station</th>\n",
       "      <th>Count</th>\n",
       "    </tr>\n",
       "  </thead>\n",
       "  <tbody>\n",
       "    <tr>\n",
       "      <th>0</th>\n",
       "      <td>SE</td>\n",
       "      <td>9275</td>\n",
       "    </tr>\n",
       "    <tr>\n",
       "      <th>1</th>\n",
       "      <td>NE</td>\n",
       "      <td>9616</td>\n",
       "    </tr>\n",
       "    <tr>\n",
       "      <th>2</th>\n",
       "      <td>CE</td>\n",
       "      <td>9019</td>\n",
       "    </tr>\n",
       "    <tr>\n",
       "      <th>3</th>\n",
       "      <td>NO</td>\n",
       "      <td>8849</td>\n",
       "    </tr>\n",
       "    <tr>\n",
       "      <th>4</th>\n",
       "      <td>SO</td>\n",
       "      <td>9424</td>\n",
       "    </tr>\n",
       "    <tr>\n",
       "      <th>5</th>\n",
       "      <td>NO2</td>\n",
       "      <td>9284</td>\n",
       "    </tr>\n",
       "    <tr>\n",
       "      <th>6</th>\n",
       "      <td>NTE</td>\n",
       "      <td>8544</td>\n",
       "    </tr>\n",
       "    <tr>\n",
       "      <th>7</th>\n",
       "      <td>NE2</td>\n",
       "      <td>9270</td>\n",
       "    </tr>\n",
       "    <tr>\n",
       "      <th>8</th>\n",
       "      <td>SE2</td>\n",
       "      <td>8504</td>\n",
       "    </tr>\n",
       "    <tr>\n",
       "      <th>9</th>\n",
       "      <td>SO2</td>\n",
       "      <td>9528</td>\n",
       "    </tr>\n",
       "    <tr>\n",
       "      <th>10</th>\n",
       "      <td>SE3</td>\n",
       "      <td>8985</td>\n",
       "    </tr>\n",
       "    <tr>\n",
       "      <th>11</th>\n",
       "      <td>SUR</td>\n",
       "      <td>8205</td>\n",
       "    </tr>\n",
       "    <tr>\n",
       "      <th>12</th>\n",
       "      <td>NTE2</td>\n",
       "      <td>9178</td>\n",
       "    </tr>\n",
       "    <tr>\n",
       "      <th>13</th>\n",
       "      <td>NE3</td>\n",
       "      <td>0</td>\n",
       "    </tr>\n",
       "  </tbody>\n",
       "</table>\n",
       "</div>"
      ],
      "text/plain": [
       "   Station  Count\n",
       "0       SE   9275\n",
       "1       NE   9616\n",
       "2       CE   9019\n",
       "3       NO   8849\n",
       "4       SO   9424\n",
       "5      NO2   9284\n",
       "6      NTE   8544\n",
       "7      NE2   9270\n",
       "8      SE2   8504\n",
       "9      SO2   9528\n",
       "10     SE3   8985\n",
       "11     SUR   8205\n",
       "12    NTE2   9178\n",
       "13     NE3      0"
      ]
     },
     "execution_count": 140,
     "metadata": {},
     "output_type": "execute_result"
    }
   ],
   "source": [
    "freq_cat.sort_values(\"Count\", ascending = False)"
   ]
  },
  {
   "cell_type": "markdown",
   "id": "343dabd7",
   "metadata": {},
   "source": [
    "## Pie plot (Pandas df)"
   ]
  },
  {
   "cell_type": "code",
   "execution_count": 145,
   "id": "42749e80",
   "metadata": {},
   "outputs": [
    {
     "data": {
      "image/png": "[encoded data removed]",
      "text/plain": [
       "<Figure size 720x576 with 1 Axes>"
      ]
     },
     "metadata": {},
     "output_type": "display_data"
    }
   ],
   "source": [
    "# Data to plot\n",
    "labels = freq_cat.Station\n",
    "sizes =  freq_cat.Count\n",
    "#colors = ['gold', 'yellowgreen', 'lightcoral','blue', 'lightskyblue','green','red']\n",
    "explode = (0, 0.15, 0, 0, 0, 0, 0, 0, 0, 0, 0, 0, 0, 0)  # explode 1st slice\n",
    "\n",
    "# Plot\n",
    "plt.figure(figsize=(10,8))\n",
    "plt.pie(sizes, explode=explode, labels=labels, #colors=colors,\n",
    "        autopct='%1.1f%%', shadow=True, startangle=140)\n",
    "\n",
    "plt.axis('equal')\n",
    "plt.show()"
   ]
  },
  {
   "cell_type": "markdown",
   "id": "8ada3946",
   "metadata": {},
   "source": [
    "## Bar plot (Pandas df)"
   ]
  },
  {
   "cell_type": "code",
   "execution_count": 148,
   "id": "20bd7719",
   "metadata": {},
   "outputs": [
    {
     "data": {
      "image/png": "[encoded data removed]",
      "text/plain": [
       "<Figure size 720x576 with 1 Axes>"
      ]
     },
     "metadata": {
      "needs_background": "light"
     },
     "output_type": "display_data"
    }
   ],
   "source": [
    "labels = freq_cat.Station\n",
    "counter =  freq_cat.Count\n",
    "ind = [x for x, _ in enumerate(labels)]\n",
    "\n",
    "plt.figure(figsize=(10,8))\n",
    "plt.bar(ind, counter, width=0.8, color='gold')\n",
    "\n",
    "plt.xticks(ind, labels)\n",
    "plt.ylabel(\"percentage\")\n",
    "\n",
    "plt.show()"
   ]
  }
 ],
 "metadata": {
  "kernelspec": {
   "display_name": "Python 3 (ipykernel)",
   "language": "python",
   "name": "python3"
  },
  "language_info": {
   "codemirror_mode": {
    "name": "ipython",
    "version": 3
   },
   "file_extension": ".py",
   "mimetype": "text/x-python",
   "name": "python",
   "nbconvert_exporter": "python",
   "pygments_lexer": "ipython3",
   "version": "3.9.12"
  }
 },
 "nbformat": 4,
 "nbformat_minor": 5
}
