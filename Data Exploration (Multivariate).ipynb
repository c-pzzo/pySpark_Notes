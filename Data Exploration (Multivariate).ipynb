{
 "cells": [
  {
   "cell_type": "markdown",
   "id": "14a52454",
   "metadata": {},
   "source": [
    "# About \n",
    "Multivariate analysis includes bivariate analysis"
   ]
  },
  {
   "cell_type": "markdown",
   "id": "82081ee8",
   "metadata": {},
   "source": [
    "# Libraries"
   ]
  },
  {
   "cell_type": "code",
   "execution_count": 1,
   "id": "c5fe9685",
   "metadata": {},
   "outputs": [
    {
     "name": "stdout",
     "output_type": "stream",
     "text": [
      "22/06/30 13:52:39 WARN Utils: Your hostname, cesar-GL62M-7RDX resolves to a loopback address: 127.0.1.1; using 192.168.1.155 instead (on interface wlp2s0)\n",
      "22/06/30 13:52:39 WARN Utils: Set SPARK_LOCAL_IP if you need to bind to another address\n"
     ]
    },
    {
     "name": "stderr",
     "output_type": "stream",
     "text": [
      "Setting default log level to \"WARN\".\n",
      "To adjust logging level use sc.setLogLevel(newLevel). For SparkR, use setLogLevel(newLevel).\n"
     ]
    },
    {
     "name": "stdout",
     "output_type": "stream",
     "text": [
      "22/06/30 13:52:39 WARN NativeCodeLoader: Unable to load native-hadoop library for your platform... using builtin-java classes where applicable\n",
      "22/06/30 13:52:40 WARN Utils: Service 'SparkUI' could not bind on port 4040. Attempting port 4041.\n",
      "22/06/30 13:52:40 WARN Utils: Service 'SparkUI' could not bind on port 4041. Attempting port 4042.\n",
      "User information is ready!\n"
     ]
    }
   ],
   "source": [
    "%run general_fv.ipynb"
   ]
  },
  {
   "cell_type": "markdown",
   "id": "258d73a5",
   "metadata": {},
   "source": [
    "# User-Defined Functions"
   ]
  },
  {
   "cell_type": "code",
   "execution_count": null,
   "id": "255df4d0",
   "metadata": {},
   "outputs": [],
   "source": []
  },
  {
   "cell_type": "markdown",
   "id": "bb20f07c",
   "metadata": {},
   "source": [
    "# Data"
   ]
  },
  {
   "cell_type": "code",
   "execution_count": 2,
   "id": "4a24828a",
   "metadata": {},
   "outputs": [
    {
     "name": "stderr",
     "output_type": "stream",
     "text": [
      "/home/cesar/anaconda3/envs/spark_env/lib/python3.9/site-packages/pandas/io/sql.py:761: UserWarning: pandas only support SQLAlchemy connectable(engine/connection) ordatabase string URI or sqlite3 DBAPI2 connectionother DBAPI2 objects are not tested, please consider using SQLAlchemy\n",
      "  warnings.warn(\n"
     ]
    },
    {
     "data": {
      "text/plain": [
       "DataFrame[datetime: timestamp, no: double, no2: double, nox: double, o3: double, pm10: double, pm25: double, prs: double, rainf: double, rh: double, so2: double, sr: double, tout: double, wdr: double, wsr: double]"
      ]
     },
     "execution_count": 2,
     "metadata": {},
     "output_type": "execute_result"
    }
   ],
   "source": [
    "sqlq = \"SELECT * FROM `sima_station_CE` where datetime > \\'2021-03-01\\'\"\n",
    "data = ps_sqlq(sqlq, True)\n",
    "data"
   ]
  },
  {
   "cell_type": "code",
   "execution_count": 5,
   "id": "5fa7bc3a",
   "metadata": {},
   "outputs": [
    {
     "data": {
      "text/plain": [
       "['no',\n",
       " 'no2',\n",
       " 'nox',\n",
       " 'o3',\n",
       " 'pm10',\n",
       " 'pm25',\n",
       " 'prs',\n",
       " 'rainf',\n",
       " 'rh',\n",
       " 'so2',\n",
       " 'sr',\n",
       " 'tout',\n",
       " 'wdr',\n",
       " 'wsr']"
      ]
     },
     "execution_count": 5,
     "metadata": {},
     "output_type": "execute_result"
    }
   ],
   "source": [
    "data.columns[1:]"
   ]
  },
  {
   "cell_type": "markdown",
   "id": "d84a5022",
   "metadata": {},
   "source": [
    "# Multivariate analysis"
   ]
  },
  {
   "cell_type": "markdown",
   "id": "3e4fe8ce",
   "metadata": {},
   "source": [
    "## Numerical vs numerical"
   ]
  },
  {
   "cell_type": "code",
   "execution_count": 12,
   "id": "208f4adf",
   "metadata": {},
   "outputs": [
    {
     "name": "stdout",
     "output_type": "stream",
     "text": [
      "22/06/30 15:48:12 WARN PearsonCorrelation: Pearson correlation matrix contains NaN values.\n"
     ]
    },
    {
     "data": {
      "text/html": [
       "<div>\n",
       "<style scoped>\n",
       "    .dataframe tbody tr th:only-of-type {\n",
       "        vertical-align: middle;\n",
       "    }\n",
       "\n",
       "    .dataframe tbody tr th {\n",
       "        vertical-align: top;\n",
       "    }\n",
       "\n",
       "    .dataframe thead th {\n",
       "        text-align: right;\n",
       "    }\n",
       "</style>\n",
       "<table border=\"1\" class=\"dataframe\">\n",
       "  <thead>\n",
       "    <tr style=\"text-align: right;\">\n",
       "      <th></th>\n",
       "      <th>no</th>\n",
       "      <th>no2</th>\n",
       "      <th>nox</th>\n",
       "      <th>o3</th>\n",
       "      <th>pm10</th>\n",
       "      <th>pm25</th>\n",
       "      <th>prs</th>\n",
       "      <th>rainf</th>\n",
       "      <th>rh</th>\n",
       "      <th>so2</th>\n",
       "      <th>sr</th>\n",
       "      <th>tout</th>\n",
       "      <th>wdr</th>\n",
       "      <th>wsr</th>\n",
       "    </tr>\n",
       "  </thead>\n",
       "  <tbody>\n",
       "    <tr>\n",
       "      <th>no</th>\n",
       "      <td>1.000000</td>\n",
       "      <td>0.615414</td>\n",
       "      <td>0.880573</td>\n",
       "      <td>-0.288249</td>\n",
       "      <td>0.317214</td>\n",
       "      <td>0.409236</td>\n",
       "      <td>0.089494</td>\n",
       "      <td>NaN</td>\n",
       "      <td>0.091495</td>\n",
       "      <td>0.294322</td>\n",
       "      <td>0.020856</td>\n",
       "      <td>-0.199826</td>\n",
       "      <td>0.185962</td>\n",
       "      <td>-0.285341</td>\n",
       "    </tr>\n",
       "    <tr>\n",
       "      <th>no2</th>\n",
       "      <td>0.615414</td>\n",
       "      <td>1.000000</td>\n",
       "      <td>0.912553</td>\n",
       "      <td>-0.233210</td>\n",
       "      <td>0.399669</td>\n",
       "      <td>0.481692</td>\n",
       "      <td>0.173961</td>\n",
       "      <td>NaN</td>\n",
       "      <td>-0.005365</td>\n",
       "      <td>0.433560</td>\n",
       "      <td>-0.044674</td>\n",
       "      <td>-0.247341</td>\n",
       "      <td>0.262009</td>\n",
       "      <td>-0.411551</td>\n",
       "    </tr>\n",
       "    <tr>\n",
       "      <th>nox</th>\n",
       "      <td>0.880573</td>\n",
       "      <td>0.912553</td>\n",
       "      <td>1.000000</td>\n",
       "      <td>-0.288606</td>\n",
       "      <td>0.401095</td>\n",
       "      <td>0.497405</td>\n",
       "      <td>0.151922</td>\n",
       "      <td>NaN</td>\n",
       "      <td>0.046799</td>\n",
       "      <td>0.407377</td>\n",
       "      <td>-0.017705</td>\n",
       "      <td>-0.250009</td>\n",
       "      <td>0.252059</td>\n",
       "      <td>-0.390987</td>\n",
       "    </tr>\n",
       "    <tr>\n",
       "      <th>o3</th>\n",
       "      <td>-0.288249</td>\n",
       "      <td>-0.233210</td>\n",
       "      <td>-0.288606</td>\n",
       "      <td>1.000000</td>\n",
       "      <td>0.116739</td>\n",
       "      <td>-0.031195</td>\n",
       "      <td>0.173135</td>\n",
       "      <td>NaN</td>\n",
       "      <td>-0.446098</td>\n",
       "      <td>0.138175</td>\n",
       "      <td>0.497484</td>\n",
       "      <td>0.473257</td>\n",
       "      <td>-0.204234</td>\n",
       "      <td>0.559687</td>\n",
       "    </tr>\n",
       "    <tr>\n",
       "      <th>pm10</th>\n",
       "      <td>0.317214</td>\n",
       "      <td>0.399669</td>\n",
       "      <td>0.401095</td>\n",
       "      <td>0.116739</td>\n",
       "      <td>1.000000</td>\n",
       "      <td>0.582096</td>\n",
       "      <td>0.250836</td>\n",
       "      <td>NaN</td>\n",
       "      <td>-0.162756</td>\n",
       "      <td>0.343204</td>\n",
       "      <td>0.235921</td>\n",
       "      <td>0.095064</td>\n",
       "      <td>0.081816</td>\n",
       "      <td>0.059536</td>\n",
       "    </tr>\n",
       "    <tr>\n",
       "      <th>pm25</th>\n",
       "      <td>0.409236</td>\n",
       "      <td>0.481692</td>\n",
       "      <td>0.497405</td>\n",
       "      <td>-0.031195</td>\n",
       "      <td>0.582096</td>\n",
       "      <td>1.000000</td>\n",
       "      <td>0.187450</td>\n",
       "      <td>NaN</td>\n",
       "      <td>0.081819</td>\n",
       "      <td>0.318724</td>\n",
       "      <td>0.090489</td>\n",
       "      <td>-0.054939</td>\n",
       "      <td>0.109695</td>\n",
       "      <td>-0.175301</td>\n",
       "    </tr>\n",
       "    <tr>\n",
       "      <th>prs</th>\n",
       "      <td>0.089494</td>\n",
       "      <td>0.173961</td>\n",
       "      <td>0.151922</td>\n",
       "      <td>0.173135</td>\n",
       "      <td>0.250836</td>\n",
       "      <td>0.187450</td>\n",
       "      <td>1.000000</td>\n",
       "      <td>NaN</td>\n",
       "      <td>0.361402</td>\n",
       "      <td>0.167309</td>\n",
       "      <td>0.094186</td>\n",
       "      <td>0.415311</td>\n",
       "      <td>0.161435</td>\n",
       "      <td>0.267169</td>\n",
       "    </tr>\n",
       "    <tr>\n",
       "      <th>rainf</th>\n",
       "      <td>NaN</td>\n",
       "      <td>NaN</td>\n",
       "      <td>NaN</td>\n",
       "      <td>NaN</td>\n",
       "      <td>NaN</td>\n",
       "      <td>NaN</td>\n",
       "      <td>NaN</td>\n",
       "      <td>1.0</td>\n",
       "      <td>NaN</td>\n",
       "      <td>NaN</td>\n",
       "      <td>NaN</td>\n",
       "      <td>NaN</td>\n",
       "      <td>NaN</td>\n",
       "      <td>NaN</td>\n",
       "    </tr>\n",
       "    <tr>\n",
       "      <th>rh</th>\n",
       "      <td>0.091495</td>\n",
       "      <td>-0.005365</td>\n",
       "      <td>0.046799</td>\n",
       "      <td>-0.446098</td>\n",
       "      <td>-0.162756</td>\n",
       "      <td>0.081819</td>\n",
       "      <td>0.361402</td>\n",
       "      <td>NaN</td>\n",
       "      <td>1.000000</td>\n",
       "      <td>-0.179859</td>\n",
       "      <td>-0.290818</td>\n",
       "      <td>-0.135244</td>\n",
       "      <td>0.056504</td>\n",
       "      <td>-0.250403</td>\n",
       "    </tr>\n",
       "    <tr>\n",
       "      <th>so2</th>\n",
       "      <td>0.294322</td>\n",
       "      <td>0.433560</td>\n",
       "      <td>0.407377</td>\n",
       "      <td>0.138175</td>\n",
       "      <td>0.343204</td>\n",
       "      <td>0.318724</td>\n",
       "      <td>0.167309</td>\n",
       "      <td>NaN</td>\n",
       "      <td>-0.179859</td>\n",
       "      <td>1.000000</td>\n",
       "      <td>0.186105</td>\n",
       "      <td>-0.013022</td>\n",
       "      <td>0.041799</td>\n",
       "      <td>-0.005368</td>\n",
       "    </tr>\n",
       "    <tr>\n",
       "      <th>sr</th>\n",
       "      <td>0.020856</td>\n",
       "      <td>-0.044674</td>\n",
       "      <td>-0.017705</td>\n",
       "      <td>0.497484</td>\n",
       "      <td>0.235921</td>\n",
       "      <td>0.090489</td>\n",
       "      <td>0.094186</td>\n",
       "      <td>NaN</td>\n",
       "      <td>-0.290818</td>\n",
       "      <td>0.186105</td>\n",
       "      <td>1.000000</td>\n",
       "      <td>0.395200</td>\n",
       "      <td>-0.161151</td>\n",
       "      <td>0.379799</td>\n",
       "    </tr>\n",
       "    <tr>\n",
       "      <th>tout</th>\n",
       "      <td>-0.199826</td>\n",
       "      <td>-0.247341</td>\n",
       "      <td>-0.250009</td>\n",
       "      <td>0.473257</td>\n",
       "      <td>0.095064</td>\n",
       "      <td>-0.054939</td>\n",
       "      <td>0.415311</td>\n",
       "      <td>NaN</td>\n",
       "      <td>-0.135244</td>\n",
       "      <td>-0.013022</td>\n",
       "      <td>0.395200</td>\n",
       "      <td>1.000000</td>\n",
       "      <td>-0.030875</td>\n",
       "      <td>0.508638</td>\n",
       "    </tr>\n",
       "    <tr>\n",
       "      <th>wdr</th>\n",
       "      <td>0.185962</td>\n",
       "      <td>0.262009</td>\n",
       "      <td>0.252059</td>\n",
       "      <td>-0.204234</td>\n",
       "      <td>0.081816</td>\n",
       "      <td>0.109695</td>\n",
       "      <td>0.161435</td>\n",
       "      <td>NaN</td>\n",
       "      <td>0.056504</td>\n",
       "      <td>0.041799</td>\n",
       "      <td>-0.161151</td>\n",
       "      <td>-0.030875</td>\n",
       "      <td>1.000000</td>\n",
       "      <td>-0.253651</td>\n",
       "    </tr>\n",
       "    <tr>\n",
       "      <th>wsr</th>\n",
       "      <td>-0.285341</td>\n",
       "      <td>-0.411551</td>\n",
       "      <td>-0.390987</td>\n",
       "      <td>0.559687</td>\n",
       "      <td>0.059536</td>\n",
       "      <td>-0.175301</td>\n",
       "      <td>0.267169</td>\n",
       "      <td>NaN</td>\n",
       "      <td>-0.250403</td>\n",
       "      <td>-0.005368</td>\n",
       "      <td>0.379799</td>\n",
       "      <td>0.508638</td>\n",
       "      <td>-0.253651</td>\n",
       "      <td>1.000000</td>\n",
       "    </tr>\n",
       "  </tbody>\n",
       "</table>\n",
       "</div>"
      ],
      "text/plain": [
       "             no       no2       nox        o3      pm10      pm25       prs  \\\n",
       "no     1.000000  0.615414  0.880573 -0.288249  0.317214  0.409236  0.089494   \n",
       "no2    0.615414  1.000000  0.912553 -0.233210  0.399669  0.481692  0.173961   \n",
       "nox    0.880573  0.912553  1.000000 -0.288606  0.401095  0.497405  0.151922   \n",
       "o3    -0.288249 -0.233210 -0.288606  1.000000  0.116739 -0.031195  0.173135   \n",
       "pm10   0.317214  0.399669  0.401095  0.116739  1.000000  0.582096  0.250836   \n",
       "pm25   0.409236  0.481692  0.497405 -0.031195  0.582096  1.000000  0.187450   \n",
       "prs    0.089494  0.173961  0.151922  0.173135  0.250836  0.187450  1.000000   \n",
       "rainf       NaN       NaN       NaN       NaN       NaN       NaN       NaN   \n",
       "rh     0.091495 -0.005365  0.046799 -0.446098 -0.162756  0.081819  0.361402   \n",
       "so2    0.294322  0.433560  0.407377  0.138175  0.343204  0.318724  0.167309   \n",
       "sr     0.020856 -0.044674 -0.017705  0.497484  0.235921  0.090489  0.094186   \n",
       "tout  -0.199826 -0.247341 -0.250009  0.473257  0.095064 -0.054939  0.415311   \n",
       "wdr    0.185962  0.262009  0.252059 -0.204234  0.081816  0.109695  0.161435   \n",
       "wsr   -0.285341 -0.411551 -0.390987  0.559687  0.059536 -0.175301  0.267169   \n",
       "\n",
       "       rainf        rh       so2        sr      tout       wdr       wsr  \n",
       "no       NaN  0.091495  0.294322  0.020856 -0.199826  0.185962 -0.285341  \n",
       "no2      NaN -0.005365  0.433560 -0.044674 -0.247341  0.262009 -0.411551  \n",
       "nox      NaN  0.046799  0.407377 -0.017705 -0.250009  0.252059 -0.390987  \n",
       "o3       NaN -0.446098  0.138175  0.497484  0.473257 -0.204234  0.559687  \n",
       "pm10     NaN -0.162756  0.343204  0.235921  0.095064  0.081816  0.059536  \n",
       "pm25     NaN  0.081819  0.318724  0.090489 -0.054939  0.109695 -0.175301  \n",
       "prs      NaN  0.361402  0.167309  0.094186  0.415311  0.161435  0.267169  \n",
       "rainf    1.0       NaN       NaN       NaN       NaN       NaN       NaN  \n",
       "rh       NaN  1.000000 -0.179859 -0.290818 -0.135244  0.056504 -0.250403  \n",
       "so2      NaN -0.179859  1.000000  0.186105 -0.013022  0.041799 -0.005368  \n",
       "sr       NaN -0.290818  0.186105  1.000000  0.395200 -0.161151  0.379799  \n",
       "tout     NaN -0.135244 -0.013022  0.395200  1.000000 -0.030875  0.508638  \n",
       "wdr      NaN  0.056504  0.041799 -0.161151 -0.030875  1.000000 -0.253651  \n",
       "wsr      NaN -0.250403 -0.005368  0.379799  0.508638 -0.253651  1.000000  "
      ]
     },
     "execution_count": 12,
     "metadata": {},
     "output_type": "execute_result"
    }
   ],
   "source": [
    "from pyspark.mllib.stat import Statistics\n",
    "import pandas as pd\n",
    "\n",
    "# Input\n",
    "col_names = data.columns[1:]\n",
    "corr_data = data[col_names]\n",
    "\n",
    "# Numerical data from input\n",
    "features = corr_data.rdd.map(lambda row: row[0:])\n",
    "\n",
    "# Pearson correlation\n",
    "corr_mat=Statistics.corr(features, method=\"pearson\")\n",
    "\n",
    "# Transformation into Pandas dataframe for visualization\n",
    "corr_df = pd.DataFrame(corr_mat)\n",
    "# Columns and index are set as input column names\n",
    "corr_df.index, corr_df.columns = col_names, col_names\n",
    "\n",
    "corr_df"
   ]
  },
  {
   "cell_type": "markdown",
   "id": "c44c33e5",
   "metadata": {},
   "source": [
    "## Categorical vs categorical"
   ]
  },
  {
   "cell_type": "markdown",
   "id": "533e6322",
   "metadata": {},
   "source": [
    "### Pearson’s Chi-squared test\n",
    "Conduct Pearson’s independence test for every feature against the label. For each feature, the (feature, label) pairs are converted into a contingency matrix for which the Chi-squared statistic is computed. All label and feature values must be categorical.\n",
    "The null hypothesis is that the occurrence of the outcomes is statistically independent."
   ]
  },
  {
   "cell_type": "code",
   "execution_count": 18,
   "id": "cfdebdd3",
   "metadata": {},
   "outputs": [
    {
     "data": {
      "text/plain": [
       "4.0"
      ]
     },
     "execution_count": 18,
     "metadata": {},
     "output_type": "execute_result"
    }
   ],
   "source": [
    "from pyspark.sql import Row\n",
    "from pyspark.ml.linalg import Vectors\n",
    "from pyspark.ml.stat import ChiSquareTest\n",
    "\n",
    "dataset = [[0, Vectors.dense([0, 0, 1])],\n",
    "           [0, Vectors.dense([1, 0, 1])],\n",
    "           [1, Vectors.dense([2, 1, 1])],\n",
    "           [1, Vectors.dense([3, 1, 1])]]\n",
    "\n",
    "dataset = spark.createDataFrame(dataset, [\"label\", \"features\"])\n",
    "chiSqResult = ChiSquareTest.test(dataset, 'features', 'label')\n",
    "chiSqResult.select(\"degreesOfFreedom\").collect()[0]\n",
    "\n",
    "Row(degreesOfFreedom=[3, 1, 0])\n",
    "chiSqResult = ChiSquareTest.test(dataset, 'features', 'label', True)\n",
    "row = chiSqResult.orderBy(\"featureIndex\").collect()\n",
    "row[0].statistic"
   ]
  }
 ],
 "metadata": {
  "kernelspec": {
   "display_name": "Python 3 (ipykernel)",
   "language": "python",
   "name": "python3"
  },
  "language_info": {
   "codemirror_mode": {
    "name": "ipython",
    "version": 3
   },
   "file_extension": ".py",
   "mimetype": "text/x-python",
   "name": "python",
   "nbconvert_exporter": "python",
   "pygments_lexer": "ipython3",
   "version": "3.9.12"
  }
 },
 "nbformat": 4,
 "nbformat_minor": 5
}
