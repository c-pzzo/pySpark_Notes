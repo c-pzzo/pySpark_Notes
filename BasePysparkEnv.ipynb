{
 "cells": [
  {
   "cell_type": "markdown",
   "id": "4fc0f415",
   "metadata": {},
   "source": [
    "# Libraries"
   ]
  },
  {
   "cell_type": "code",
   "execution_count": 1,
   "id": "71065353",
   "metadata": {},
   "outputs": [
    {
     "name": "stderr",
     "output_type": "stream",
     "text": [
      "22/09/23 17:36:56 WARN Utils: Your hostname, cesar-GL62M-7RDX resolves to a loopback address: 127.0.1.1; using 10.22.162.210 instead (on interface wlp2s0)\n",
      "22/09/23 17:36:56 WARN Utils: Set SPARK_LOCAL_IP if you need to bind to another address\n",
      "Using Spark's default log4j profile: org/apache/spark/log4j-defaults.properties\n",
      "Setting default log level to \"WARN\".\n",
      "To adjust logging level use sc.setLogLevel(newLevel). For SparkR, use setLogLevel(newLevel).\n",
      "22/09/23 17:36:56 WARN NativeCodeLoader: Unable to load native-hadoop library for your platform... using builtin-java classes where applicable\n"
     ]
    }
   ],
   "source": [
    "import os \n",
    "import numpy as np\n",
    "import pandas as pd\n",
    "import mysql.connector\n",
    "\n",
    "from pyspark.sql import SparkSession\n",
    "spark = SparkSession \\\n",
    "    .builder \\\n",
    "    .appName(\"Python Spark Env\") \\\n",
    "    .config(\"spark.some.config.option\", \"some-value\") \\\n",
    "    .getOrCreate()"
   ]
  },
  {
   "cell_type": "markdown",
   "id": "9bb7e221",
   "metadata": {},
   "source": [
    "# User-Defined functions"
   ]
  },
  {
   "cell_type": "code",
   "execution_count": 2,
   "id": "6ff26029",
   "metadata": {},
   "outputs": [
    {
     "name": "stdout",
     "output_type": "stream",
     "text": [
      "User information is ready!\n"
     ]
    }
   ],
   "source": [
    "# For privacy reasons, User Information is located in a .txt file in the same folder\n",
    "# First row contains the user name\n",
    "# Second row contains the password\n",
    "\n",
    "try:\n",
    "    login = pd.read_csv(r'../mysql_login.txt', header=None)\n",
    "    mysql_user = login[0][0]\n",
    "    mysql_pwd = login[0][1]\n",
    "    print('User information is ready!')\n",
    "except:\n",
    "    print('Login information is NOT available!!!')"
   ]
  },
  {
   "cell_type": "code",
   "execution_count": 3,
   "id": "da68d1c2",
   "metadata": {},
   "outputs": [],
   "source": [
    "# Establish a connection. Define parameters\n",
    "def sql_conn():\n",
    "    conn = mysql.connector.connect(\n",
    "      host=\"localhost\"\n",
    "      , user = mysql_user\n",
    "      , password = mysql_pwd\n",
    "      , database='HDL_Project')\n",
    "    return conn"
   ]
  },
  {
   "cell_type": "code",
   "execution_count": 4,
   "id": "8a50d53e",
   "metadata": {},
   "outputs": [
    {
     "name": "stderr",
     "output_type": "stream",
     "text": [
      "\r",
      "[Stage 0:>                                                          (0 + 1) / 1]\r"
     ]
    },
    {
     "name": "stdout",
     "output_type": "stream",
     "text": [
      "+------------+-------------+\n",
      "|station_code| station_name|\n",
      "+------------+-------------+\n",
      "|          SE|   La Pastora|\n",
      "|          NE|  San Nicolás|\n",
      "|          CE|     Obispado|\n",
      "|          NO|  San Bernabé|\n",
      "|          SO|Sta. Catarina|\n",
      "|         NO2|       García|\n",
      "|         NTE|     Escobedo|\n",
      "|         NE2|      Apodaca|\n",
      "|         SE2|       Juárez|\n",
      "|         SO2|    San Pedro|\n",
      "|         SE3|    Cadereyta|\n",
      "|         SUR|Pueblo Serena|\n",
      "|        NTE2|  Universidad|\n",
      "+------------+-------------+\n",
      "\n"
     ]
    },
    {
     "name": "stderr",
     "output_type": "stream",
     "text": [
      "\r",
      "                                                                                \r"
     ]
    }
   ],
   "source": [
    "def sql_rdd(sqlq, rdd = True):\n",
    "    \n",
    "    # -----------------------\n",
    "    # Description:\n",
    "    # Reads MySQL data and transforms into spark RDD object\n",
    "    \n",
    "    # Parameters:\n",
    "    # * sqlq: SQL query.\n",
    "    # * rdd: Boolean parameter defining transformation into Spark RDD object if True. Else returns a pandas df.\n",
    "    # -----------------------\n",
    "\n",
    "    mysql_conn = sql_conn()\n",
    "    \n",
    "    mysql_cursor = mysql_conn.cursor()\n",
    "\n",
    "    # Create a pandas dataframe\n",
    "    df = pd.read_sql(sqlq, con=mysql_conn)\n",
    "    \n",
    "    mysql_cursor.close()\n",
    "\n",
    "    # Convert Pandas dataframe to spark DataFrame\n",
    "    if rdd == True:\n",
    "        df = spark.createDataFrame(df)\n",
    "\n",
    "    return df\n",
    "\n",
    "# Test\n",
    "if False:\n",
    "    sqlq = \"SELECT * FROM cat_stations\"\n",
    "    df = sql_rdd(sqlq)\n",
    "    df.show()"
   ]
  }
 ],
 "metadata": {
  "kernelspec": {
   "display_name": "Python 3 (ipykernel)",
   "language": "python",
   "name": "python3"
  },
  "language_info": {
   "codemirror_mode": {
    "name": "ipython",
    "version": 3
   },
   "file_extension": ".py",
   "mimetype": "text/x-python",
   "name": "python",
   "nbconvert_exporter": "python",
   "pygments_lexer": "ipython3",
   "version": "3.8.12"
  }
 },
 "nbformat": 4,
 "nbformat_minor": 5
}
