{
 "cells": [
  {
   "cell_type": "markdown",
   "id": "0ccf4c69",
   "metadata": {},
   "source": [
    "# About\n",
    "This notebook contains every library, function, and parameter relevant to every future implementation for this project. That would reduce the amount of copy-pasted code throughout every notebook, centralizing its definition in one place."
   ]
  },
  {
   "cell_type": "markdown",
   "id": "709c7d48",
   "metadata": {},
   "source": [
    "# Libraries"
   ]
  },
  {
   "cell_type": "code",
   "execution_count": 1,
   "id": "fe1f529a",
   "metadata": {},
   "outputs": [
    {
     "name": "stdout",
     "output_type": "stream",
     "text": [
      "22/06/29 13:46:05 WARN Utils: Your hostname, cesar-GL62M-7RDX resolves to a loopback address: 127.0.1.1; using 192.168.1.155 instead (on interface wlp2s0)\n",
      "22/06/29 13:46:05 WARN Utils: Set SPARK_LOCAL_IP if you need to bind to another address\n"
     ]
    },
    {
     "name": "stderr",
     "output_type": "stream",
     "text": [
      "Setting default log level to \"WARN\".\n",
      "To adjust logging level use sc.setLogLevel(newLevel). For SparkR, use setLogLevel(newLevel).\n"
     ]
    },
    {
     "name": "stdout",
     "output_type": "stream",
     "text": [
      "22/06/29 13:46:06 WARN NativeCodeLoader: Unable to load native-hadoop library for your platform... using builtin-java classes where applicable\n"
     ]
    },
    {
     "data": {
      "text/plain": [
       "'/home/cesar/Python_NBs/pySpark_Notes'"
      ]
     },
     "execution_count": 1,
     "metadata": {},
     "output_type": "execute_result"
    }
   ],
   "source": [
    "import os \n",
    "import numpy as np\n",
    "import pandas as pd\n",
    "import mysql.connector\n",
    "\n",
    "from pyspark.sql import SparkSession\n",
    "spark = SparkSession \\\n",
    "    .builder \\\n",
    "    .appName(\"Python Spark create RDD example\") \\\n",
    "    .config(\"spark.some.config.option\", \"some-value\") \\\n",
    "    .getOrCreate()\n",
    "\n",
    "os.getcwd()"
   ]
  },
  {
   "cell_type": "markdown",
   "id": "2115bbae",
   "metadata": {},
   "source": [
    "# User-Defined Functions"
   ]
  },
  {
   "cell_type": "code",
   "execution_count": 2,
   "id": "54518eb4",
   "metadata": {},
   "outputs": [
    {
     "name": "stdout",
     "output_type": "stream",
     "text": [
      "User information is ready!\n"
     ]
    }
   ],
   "source": [
    "# For privacy reasons, User Information is located in a .txt file in the same folder\n",
    "# First row contains the user name\n",
    "# Second row contains the password\n",
    "\n",
    "try:\n",
    "    login = pd.read_csv(r'mysql_login.txt', header=None)\n",
    "    mysql_user = login[0][0]\n",
    "    mysql_pwd = login[0][1]\n",
    "    print('User information is ready!')\n",
    "except:\n",
    "    print('Login information is not available!!!')"
   ]
  },
  {
   "cell_type": "code",
   "execution_count": 3,
   "id": "f969d2b4",
   "metadata": {},
   "outputs": [],
   "source": [
    "# Establish a connection. Define parameters\n",
    "mydb = mysql.connector.connect(\n",
    "  host=\"localhost\"\n",
    "  ,user=mysql_user\n",
    "  ,password=mysql_pwd\n",
    "  ,database='HDL_Project'\n",
    ")\n",
    "\n",
    "mycursor = mydb.cursor()\n",
    "\n",
    "#https://dev.mysql.com/doc/connector-python/en/connector-python-example-cursor-transaction.html\n"
   ]
  },
  {
   "cell_type": "code",
   "execution_count": 4,
   "id": "6559ed56",
   "metadata": {},
   "outputs": [],
   "source": [
    "# Establish a connection. Define parameters\n",
    "mysql_conn = mysql.connector.connect(\n",
    "  host=\"localhost\"\n",
    "  , user = mysql_user\n",
    "  , password = mysql_pwd\n",
    "  , database='HDL_Project'\n",
    ")\n",
    "    \n",
    "def ps_sqlq(sqlq, rdd = False):\n",
    "    \n",
    "    # -----------------------\n",
    "    # Description:\n",
    "    # Reads MySQL data and transforms into spark RDD object\n",
    "    \n",
    "    # Parameters:\n",
    "    # * sqlq: SQL query.\n",
    "    # * rdd: Binary parameter defining transformation into Spark RDD object\n",
    "    # -----------------------\n",
    "\n",
    "    mysql_cursor = mysql_conn.cursor()\n",
    "\n",
    "    # Create a pandas dataframe\n",
    "    df = pd.read_sql(sqlq, con=mysql_conn)\n",
    "    \n",
    "    mysql_cursor.close()\n",
    "\n",
    "    # Convert Pandas dataframe to spark DataFrame\n",
    "    if rdd == True:\n",
    "        df = spark.createDataFrame(df)\n",
    "\n",
    "    return df"
   ]
  }
 ],
 "metadata": {
  "kernelspec": {
   "display_name": "Python 3 (ipykernel)",
   "language": "python",
   "name": "python3"
  },
  "language_info": {
   "codemirror_mode": {
    "name": "ipython",
    "version": 3
   },
   "file_extension": ".py",
   "mimetype": "text/x-python",
   "name": "python",
   "nbconvert_exporter": "python",
   "pygments_lexer": "ipython3",
   "version": "3.9.12"
  }
 },
 "nbformat": 4,
 "nbformat_minor": 5
}
